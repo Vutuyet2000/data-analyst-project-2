{
 "cells": [
  {
   "cell_type": "markdown",
   "metadata": {},
   "source": [
    "> **Tip**: Welcome to the Investigate a Dataset project! You will find tips in quoted sections like this to help organize your approach to your investigation. Before submitting your project, it will be a good idea to go back through your report and remove these sections to make the presentation of your work as tidy as possible. First things first, you might want to double-click this Markdown cell and change the title so that it reflects your dataset and investigation.\n",
    "\n",
    "# Project: Investigate a Dataset (Replace this with something more specific!)\n",
    "\n",
    "## Table of Contents\n",
    "<ul>\n",
    "<li><a href=\"#intro\">Introduction</a></li>\n",
    "<li><a href=\"#wrangling\">Data Wrangling</a></li>\n",
    "<li><a href=\"#eda\">Exploratory Data Analysis</a></li>\n",
    "<li><a href=\"#conclusions\">Conclusions</a></li>\n",
    "</ul>"
   ]
  },
  {
   "cell_type": "markdown",
   "metadata": {},
   "source": [
    "<a id='intro'></a>\n",
    "## Introduction\n",
    "\n",
    "> **Tip**: In this section of the report, provide a brief introduction to the dataset you've selected for analysis. At the end of this section, describe the questions that you plan on exploring over the course of the report. Try to build your report around the analysis of at least one dependent variable and three independent variables.\n",
    ">\n",
    "> If you haven't yet selected and downloaded your data, make sure you do that first before coming back here. If you're not sure what questions to ask right now, then make sure you familiarize yourself with the variables and the dataset context for ideas of what to explore.\n",
    ">\n",
    "> **Brief introduction to the dataset I've selected for analysis:**\n",
    ">\n",
    "> The TMDb movie data set contains information about 10,000 movies collected from The Movie Database (TMDb), including user ratings and revenue.\n",
    "> * Certain columns, like ‘cast’ and ‘genres’, contain multiple values separated by pipe (|) characters.\n",
    "> * There are some odd characters in the ‘cast’ column. Don’t worry about cleaning them. You can leave them as is.\n",
    "> * The final two columns ending with “_adj” show the budget and revenue of the associated movie in terms of 2010 dollars, accounting for inflation over time.\n",
    ">\n",
    "> **Questions:**\n",
    "> * 1. How is the Walt Disney's profit year by year?\n",
    "> * 2. What is the people demand for watching movies year by year?\n",
    "> * 3. What is the popular range of movies' profit?"
   ]
  },
  {
   "cell_type": "code",
   "execution_count": 1,
   "metadata": {},
   "outputs": [],
   "source": [
    "# Use this cell to set up import statements for all of the packages that you plan to use.\"\n",
    "import pandas as pd\n",
    "import numpy as np\n",
    "import csv\n",
    "from datetime import datetime\n",
    "import matplotlib.pyplot as plt\n",
    "# Remember to include a 'magic word' so that your visualizations are plotted\n",
    "#   inline with the notebook. See this page for more:\n",
    "#   http://ipython.readthedocs.io/en/stable/interactive/magics.html\n",
    "%matplotlib inline"
   ]
  },
  {
   "cell_type": "markdown",
   "metadata": {},
   "source": [
    "<a id='wrangling'></a>\n",
    "## Data Wrangling\n",
    "\n",
    "> **Tip**: In this section of the report, you will load in the data, check for cleanliness, and then trim and clean your dataset for analysis. Make sure that you document your steps carefully and justify your cleaning decisions.\n",
    "\n",
    "### General Properties"
   ]
  },
  {
   "cell_type": "code",
   "execution_count": 2,
   "metadata": {
    "tags": []
   },
   "outputs": [
    {
     "name": "stdout",
     "output_type": "stream",
     "text": [
      "<class 'pandas.core.frame.DataFrame'>\n",
      "RangeIndex: 10866 entries, 0 to 10865\n",
      "Data columns (total 21 columns):\n",
      "id                      10866 non-null int64\n",
      "imdb_id                 10856 non-null object\n",
      "popularity              10866 non-null float64\n",
      "budget                  10866 non-null int64\n",
      "revenue                 10866 non-null int64\n",
      "original_title          10866 non-null object\n",
      "cast                    10790 non-null object\n",
      "homepage                2936 non-null object\n",
      "director                10822 non-null object\n",
      "tagline                 8042 non-null object\n",
      "keywords                9373 non-null object\n",
      "overview                10862 non-null object\n",
      "runtime                 10866 non-null int64\n",
      "genres                  10843 non-null object\n",
      "production_companies    9836 non-null object\n",
      "release_date            10866 non-null object\n",
      "vote_count              10866 non-null int64\n",
      "vote_average            10866 non-null float64\n",
      "release_year            10866 non-null int64\n",
      "budget_adj              10866 non-null float64\n",
      "revenue_adj             10866 non-null float64\n",
      "dtypes: float64(4), int64(6), object(11)\n",
      "memory usage: 1.7+ MB\n"
     ]
    }
   ],
   "source": [
    "# Load your data and print out a few lines. Perform operations to inspect data\n",
    "#   types and look for instances of missing or possibly errant data.\n",
    "df = pd.read_csv('Database_TMDb_movie_data/tmdb-movies.csv')\n",
    "df.info()"
   ]
  },
  {
   "cell_type": "markdown",
   "metadata": {},
   "source": [
    "> **Tip**: You should _not_ perform too many operations in each cell. Create cells freely to explore your data. One option that you can take with this project is to do a lot of explorations in an initial notebook. These don't have to be organized, but make sure you use enough comments to understand the purpose of each code cell. Then, after you're done with your analysis, create a duplicate notebook where you will trim the excess and organize your steps so that you have a flowing, cohesive report.\n",
    "\n",
    "> **Tip**: Make sure that you keep your reader informed on the steps that you are taking in your investigation. Follow every code cell, or every set of related code cells, with a markdown cell to describe to the reader what was found in the preceding cell(s). Try to make it so that the reader can then understand what they will be seeing in the following cell(s).\n",
    "\n",
    "### Data Cleaning (Replace this with more specific notes!)"
   ]
  },
  {
   "cell_type": "markdown",
   "metadata": {},
   "source": [
    "In this section, we will get used columns from dataset, remove duplicate rows and rows with invalid values."
   ]
  },
  {
   "cell_type": "code",
   "execution_count": 20,
   "metadata": {
    "collapsed": true,
    "jupyter": {
     "outputs_hidden": true
    }
   },
   "outputs": [],
   "source": [
    "# After discussing the structure of the data and any problems that need to be\n",
    "#   cleaned, perform those cleaning steps in the second part of this section."
   ]
  },
  {
   "cell_type": "markdown",
   "metadata": {},
   "source": [
    "1. Get used columns for this investigation"
   ]
  },
  {
   "cell_type": "code",
   "execution_count": 3,
   "metadata": {
    "scrolled": true
   },
   "outputs": [
    {
     "name": "stdout",
     "output_type": "stream",
     "text": [
      "<class 'pandas.core.frame.DataFrame'>\n",
      "RangeIndex: 10866 entries, 0 to 10865\n",
      "Data columns (total 6 columns):\n",
      "popularity              10866 non-null float64\n",
      "production_companies    9836 non-null object\n",
      "release_date            10866 non-null object\n",
      "release_year            10866 non-null int64\n",
      "budget_adj              10866 non-null float64\n",
      "revenue_adj             10866 non-null float64\n",
      "dtypes: float64(3), int64(1), object(2)\n",
      "memory usage: 509.4+ KB\n"
     ]
    }
   ],
   "source": [
    "df.drop(['id','imdb_id','budget','revenue','genres','original_title','cast','homepage','director','tagline','keywords','overview','runtime','vote_count','vote_average'], axis=1, inplace=True)\n",
    "df.to_csv('tmdb-movies-edited.csv', index=False)\n",
    "df_movies = pd.read_csv('tmdb-movies-edited.csv')\n",
    "df.info()"
   ]
  },
  {
   "cell_type": "markdown",
   "metadata": {},
   "source": [
    "2. Remove duplicate records"
   ]
  },
  {
   "cell_type": "code",
   "execution_count": 4,
   "metadata": {},
   "outputs": [
    {
     "name": "stdout",
     "output_type": "stream",
     "text": [
      "<class 'pandas.core.frame.DataFrame'>\n",
      "Int64Index: 10865 entries, 0 to 10865\n",
      "Data columns (total 6 columns):\n",
      "popularity              10865 non-null float64\n",
      "production_companies    9835 non-null object\n",
      "release_date            10865 non-null object\n",
      "release_year            10865 non-null int64\n",
      "budget_adj              10865 non-null float64\n",
      "revenue_adj             10865 non-null float64\n",
      "dtypes: float64(3), int64(1), object(2)\n",
      "memory usage: 594.2+ KB\n"
     ]
    }
   ],
   "source": [
    "df_movies.drop_duplicates(inplace=True)\n",
    "df_movies.info()"
   ]
  },
  {
   "cell_type": "markdown",
   "metadata": {},
   "source": [
    "3. Remove rows with empty production_companies"
   ]
  },
  {
   "cell_type": "code",
   "execution_count": 5,
   "metadata": {},
   "outputs": [
    {
     "name": "stdout",
     "output_type": "stream",
     "text": [
      "<class 'pandas.core.frame.DataFrame'>\n",
      "RangeIndex: 9835 entries, 0 to 9834\n",
      "Data columns (total 6 columns):\n",
      "popularity              9835 non-null float64\n",
      "production_companies    9835 non-null object\n",
      "release_date            9835 non-null object\n",
      "release_year            9835 non-null int64\n",
      "budget_adj              9835 non-null float64\n",
      "revenue_adj             9835 non-null float64\n",
      "dtypes: float64(3), int64(1), object(2)\n",
      "memory usage: 461.1+ KB\n"
     ]
    }
   ],
   "source": [
    "df_movies.dropna(subset=['production_companies'], inplace=True)  \n",
    "df_movies.to_csv('tmdb-movies-edited.csv', index=False)\n",
    "df_movies = pd.read_csv('tmdb-movies-edited.csv')\n",
    "df_movies.info()"
   ]
  },
  {
   "cell_type": "markdown",
   "metadata": {},
   "source": [
    "4. Remove rows with '0' values"
   ]
  },
  {
   "cell_type": "code",
   "execution_count": 6,
   "metadata": {},
   "outputs": [
    {
     "name": "stdout",
     "output_type": "stream",
     "text": [
      "<class 'pandas.core.frame.DataFrame'>\n",
      "RangeIndex: 3808 entries, 0 to 3807\n",
      "Data columns (total 6 columns):\n",
      "popularity              3808 non-null float64\n",
      "production_companies    3808 non-null object\n",
      "release_date            3808 non-null object\n",
      "release_year            3808 non-null int64\n",
      "budget_adj              3808 non-null float64\n",
      "revenue_adj             3808 non-null float64\n",
      "dtypes: float64(3), int64(1), object(2)\n",
      "memory usage: 178.6+ KB\n"
     ]
    }
   ],
   "source": [
    "df_clean_invalid_values = df_movies.replace(0,np.NaN)\n",
    "df_movies = df_clean_invalid_values.dropna()\n",
    "df_movies.to_csv('tmdb-movies-edited.csv', index=False)\n",
    "df_movies = pd.read_csv('tmdb-movies-edited.csv')\n",
    "df_movies.info()"
   ]
  },
  {
   "cell_type": "markdown",
   "metadata": {},
   "source": [
    "5. Change some columns type to integer or string"
   ]
  },
  {
   "cell_type": "code",
   "execution_count": 7,
   "metadata": {},
   "outputs": [
    {
     "name": "stdout",
     "output_type": "stream",
     "text": [
      "<class 'pandas.core.frame.DataFrame'>\n",
      "RangeIndex: 3808 entries, 0 to 3807\n",
      "Data columns (total 6 columns):\n",
      "popularity              3808 non-null int64\n",
      "production_companies    3808 non-null object\n",
      "release_date            3808 non-null object\n",
      "release_year            3808 non-null int64\n",
      "budget_adj              3808 non-null int64\n",
      "revenue_adj             3808 non-null int64\n",
      "dtypes: int64(4), object(2)\n",
      "memory usage: 178.6+ KB\n"
     ]
    }
   ],
   "source": [
    "df_movies[['popularity','release_year','budget_adj', 'revenue_adj']] = df_movies[['popularity','release_year','budget_adj', 'revenue_adj']].applymap(np.int64)\n",
    "df_movies['production_companies'] = df_movies['production_companies'].astype(str)\n",
    "df_movies.info()"
   ]
  },
  {
   "cell_type": "markdown",
   "metadata": {},
   "source": [
    "6. Add profit column -> Caculating this column by (revenue_adj - budget_adj)"
   ]
  },
  {
   "cell_type": "code",
   "execution_count": 8,
   "metadata": {},
   "outputs": [
    {
     "name": "stdout",
     "output_type": "stream",
     "text": [
      "<class 'pandas.core.frame.DataFrame'>\n",
      "RangeIndex: 3808 entries, 0 to 3807\n",
      "Data columns (total 7 columns):\n",
      "popularity              3808 non-null int64\n",
      "production_companies    3808 non-null object\n",
      "release_date            3808 non-null object\n",
      "release_year            3808 non-null int64\n",
      "budget_adj              3808 non-null int64\n",
      "revenue_adj             3808 non-null int64\n",
      "profit                  3808 non-null int64\n",
      "dtypes: int64(5), object(2)\n",
      "memory usage: 208.3+ KB\n"
     ]
    }
   ],
   "source": [
    "df_movies.insert(6,'profit',df_movies['revenue_adj']-df_movies['budget_adj'])\n",
    "df_movies.to_csv('tmdb-movies-edited.csv', index=False)\n",
    "df_movies = pd.read_csv('tmdb-movies-edited.csv')\n",
    "df_movies.info()"
   ]
  },
  {
   "cell_type": "markdown",
   "metadata": {},
   "source": [
    "7. Get rows having production_companies contains 'Walt Disney Pictures'"
   ]
  },
  {
   "cell_type": "code",
   "execution_count": 9,
   "metadata": {},
   "outputs": [
    {
     "name": "stdout",
     "output_type": "stream",
     "text": [
      "<class 'pandas.core.frame.DataFrame'>\n",
      "RangeIndex: 117 entries, 0 to 116\n",
      "Data columns (total 7 columns):\n",
      "popularity              117 non-null int64\n",
      "production_companies    117 non-null object\n",
      "release_date            117 non-null object\n",
      "release_year            117 non-null int64\n",
      "budget_adj              117 non-null int64\n",
      "revenue_adj             117 non-null int64\n",
      "profit                  117 non-null int64\n",
      "dtypes: int64(5), object(2)\n",
      "memory usage: 6.5+ KB\n"
     ]
    }
   ],
   "source": [
    "df_Disney_movies = df_movies[df_movies['production_companies'].str.contains(\"Walt Disney Pictures\")]\n",
    "df_Disney_movies.to_csv('tmdb-Disney-movies.csv', index=False)\n",
    "df_Disney_movies = pd.read_csv('tmdb-Disney-movies.csv')\n",
    "df_Disney_movies.info()"
   ]
  },
  {
   "cell_type": "markdown",
   "metadata": {},
   "source": [
    "<a id='eda'></a>\n",
    "## Exploratory Data Analysis\n",
    "\n",
    "> **Tip**: Now that you've trimmed and cleaned your data, you're ready to move on to exploration. Compute statistics and create visualizations with the goal of addressing the research questions that you posed in the Introduction section. It is recommended that you be systematic with your approach. Look at one variable at a time, and then follow it up by looking at relationships between variables.\n",
    "\n",
    "### Research Question 1 (How is the Walt Disney's profit year by year?)"
   ]
  },
  {
   "cell_type": "code",
   "execution_count": 10,
   "metadata": {
    "jupyter": {
     "outputs_hidden": true
    }
   },
   "outputs": [],
   "source": [
    "# Use this, and more code cells, to explore your data. Don't forget to add\n",
    "#   Markdown cells to document your observations and findings.\n",
    "def disney_trend(column_profit,column_year):\n",
    "    df_movies = pd.read_csv('tmdb-Disney-movies.csv')\n",
    "    #graph size\n",
    "    plt.figure(figsize=(6,4), dpi = 120)\n",
    "    \n",
    "    plt.plot(df_movies.groupby(column_profit)[column_year].sum())\n",
    "    max_year = df_movies.groupby(column_profit)[column_year].sum().idxmax()\n",
    "    max_value = df_movies.groupby(column_profit)[column_year].sum().max()\n",
    "    min_year = df_movies.groupby(column_profit)[column_year].sum().idxmin()\n",
    "    min_value = df_movies.groupby(column_profit)[column_year].sum().min()\n",
    "    \n",
    "    return max_year,max_value,min_year,min_value,plt"
   ]
  },
  {
   "cell_type": "code",
   "execution_count": 11,
   "metadata": {},
   "outputs": [
    {
     "data": {
      "image/png": "[encoded data removed]",
      "text/plain": [
       "<matplotlib.figure.Figure at 0x7fac42ac5668>"
      ]
     },
     "metadata": {
      "needs_background": "light"
     },
     "output_type": "display_data"
    },
    {
     "name": "stdout",
     "output_type": "stream",
     "text": [
      "Year has max profit:  2010  with value:  2526186476\n",
      "Year has min profit:  1985  with value:  -35624417\n"
     ]
    }
   ],
   "source": [
    "max_year,max_value,min_year,min_value,plt = disney_trend('release_year','profit')\n",
    "plt.xlabel('Release Year', fontsize = 9)\n",
    "plt.ylabel('Profit', fontsize = 9)\n",
    "plt.title('The Walt Disney profit year by year')\n",
    "plt.show()\n",
    "print('Year has max profit: ',max_year,' with value: ', max_value)\n",
    "print('Year has min profit: ',min_year,' with value: ', min_value)"
   ]
  },
  {
   "cell_type": "markdown",
   "metadata": {},
   "source": [
    "**Observation:**\n",
    ">\n",
    "> From the above chart, it can  be seen that the profit of Disney goes down from 1970 to 1985. Then, it goes up again. "
   ]
  },
  {
   "cell_type": "markdown",
   "metadata": {},
   "source": [
    "### Research Question 2  (What is the people demand for watching movies year by year?)"
   ]
  },
  {
   "cell_type": "markdown",
   "metadata": {},
   "source": [
    "́́**Investigate:**\n",
    "> This question can be investigated through 3 variables (the movies' profit, popularity and released_year). In this section, we will see how these 3 variable changed. From that, we will know the people demand for watching movies year by year.\n"
   ]
  },
  {
   "cell_type": "markdown",
   "metadata": {},
   "source": [
    "**Chart:**"
   ]
  },
  {
   "cell_type": "code",
   "execution_count": 12,
   "metadata": {},
   "outputs": [],
   "source": [
    "def popularity_profit_trend(column_profit,column_popularity,column_year):\n",
    "    df_movies = pd.read_csv('tmdb-movies-edited.csv')\n",
    "    \n",
    "    bins = [1960,1970,1980,1990,2000,2010]\n",
    "    ind = np.digitize(df_movies[column_year], bins)\n",
    "    \n",
    "    df_profit = df_movies.groupby(ind)[column_profit].sum().to_frame()\n",
    "    \n",
    "    df_popularity = df_movies.groupby(ind)[column_popularity].sum().to_frame()\n",
    "    X_axis = np.arange(1960,2015,10)\n",
    "    \n",
    "    fig,ax=plt.subplots()\n",
    "    ax.plot(X_axis, df_profit[column_profit], color=\"red\", marker=\"o\")\n",
    "    ax.set_xlabel('Release Year')\n",
    "    ax.set_ylabel('Profit (dollars)', color=\"red\")\n",
    "    \n",
    "    ax2=ax.twinx()\n",
    "    ax2.plot(X_axis, df_popularity[column_popularity], color=\"blue\",marker=\"o\")\n",
    "    ax2.set_ylabel(\"Popularity\", color=\"blue\")\n",
    "    \n",
    "    plt.show()"
   ]
  },
  {
   "cell_type": "code",
   "execution_count": 13,
   "metadata": {},
   "outputs": [
    {
     "data": {
      "image/png": "[encoded data removed]",
      "text/plain": [
       "<matplotlib.figure.Figure at 0x7fac42fe8be0>"
      ]
     },
     "metadata": {
      "needs_background": "light"
     },
     "output_type": "display_data"
    }
   ],
   "source": [
    "popularity_profit_trend('profit','popularity','release_year')"
   ]
  },
  {
   "cell_type": "markdown",
   "metadata": {},
   "source": [
    "**Observation:**\n",
    "> From both charts above, it can be seen that the movies' profit and popularity are increasing from 1960 to 2015. Therefore, the people demand of watching movies also increase year by year."
   ]
  },
  {
   "cell_type": "markdown",
   "metadata": {},
   "source": [
    "### Research Question 3  (What is the popular range of movies' profit?)"
   ]
  },
  {
   "cell_type": "code",
   "execution_count": 17,
   "metadata": {},
   "outputs": [
    {
     "data": {
      "image/png": "[encoded data removed]",
      "text/plain": [
       "<matplotlib.figure.Figure at 0x7fac42b56898>"
      ]
     },
     "metadata": {
      "needs_background": "light"
     },
     "output_type": "display_data"
    }
   ],
   "source": [
    "# bins\n",
    "data = df_movies['profit']\n",
    "# print(data)\n",
    "# print(df_movies['profit'].min())\n",
    "# print(df_movies['profit'].max())\n",
    "bins = np.linspace(df_movies['profit'].min(), df_movies['profit'].max(), 6)\n",
    "# print(bins)\n",
    "# digitized = np.digitize(data, bins)\n",
    "# Creating histogram\n",
    "fig, ax = plt.subplots(figsize =(10, 7))\n",
    "ax.hist(data, bins)\n",
    " \n",
    "# Show plot\n",
    "plt.show()"
   ]
  },
  {
   "cell_type": "markdown",
   "metadata": {},
   "source": [
    "**Observation:**"
   ]
  },
  {
   "cell_type": "markdown",
   "metadata": {},
   "source": [
    "> From the chart, the popular movies' profit is between -0.5 to 1.0"
   ]
  },
  {
   "cell_type": "markdown",
   "metadata": {},
   "source": [
    "<a id='conclusions'></a>\n",
    "## Conclusions\n",
    "\n",
    "> **Tip**: Finally, summarize your findings and the results that have been performed. Make sure that you are clear with regards to the limitations of your exploration. If you haven't done any statistical tests, do not imply any statistical conclusions. And make sure you avoid implying causation from correlation!\n",
    "\n",
    "> **Tip**: Once you are satisfied with your work, you should save a copy of the report in HTML or PDF form via the **File** > **Download as** submenu. Before exporting your report, check over it to make sure that the flow of the report is complete. You should probably remove all of the \"Tip\" quotes like this one so that the presentation is as tidy as possible. Congratulations!"
   ]
  },
  {
   "cell_type": "markdown",
   "metadata": {
    "jupyter": {
     "outputs_hidden": true
    }
   },
   "source": [
    "In this investigation, we can find that there is more demand for watching movies year by year. Besides, we know the Disney's profit as well as the max and min profit it had from 1960 to 2015 and the popular movies' profit is between -0.5 to 1.0.\n",
    "\n",
    "However, there are still limits. The above observations may be not accurate because of the lacking of data from removing some invalid datas."
   ]
  }
 ],
 "metadata": {
  "kernelspec": {
   "display_name": "Python 3",
   "language": "python",
   "name": "python3"
  },
  "language_info": {
   "codemirror_mode": {
    "name": "ipython",
    "version": 3
   },
   "file_extension": ".py",
   "mimetype": "text/x-python",
   "name": "python",
   "nbconvert_exporter": "python",
   "pygments_lexer": "ipython3",
   "version": "3.6.3"
  }
 },
 "nbformat": 4,
 "nbformat_minor": 4
}
